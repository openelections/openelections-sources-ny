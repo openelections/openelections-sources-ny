{
 "cells": [
  {
   "cell_type": "markdown",
   "id": "ef1486c5-a05e-4cf0-b03c-cc45b05e529b",
   "metadata": {},
   "source": [
    "# NYC sources download\n",
    "\n",
    "By Ben Welsh\n",
    "\n",
    "Download all the CSV and PDF files posted by the New York City Board of Elections on its [download page](https://www.vote.nyc/page/election-results-summary)"
   ]
  },
  {
   "cell_type": "markdown",
   "id": "72399046-101a-4b1d-9fe3-ce79a023e271",
   "metadata": {},
   "source": [
    "## Import"
   ]
  },
  {
   "cell_type": "markdown",
   "id": "cc0b2c74-d2e5-452f-8a1d-6993a7ecf8ab",
   "metadata": {},
   "source": [
    "Pull in the Python tools we'll use"
   ]
  },
  {
   "cell_type": "code",
   "execution_count": 1,
   "id": "4a007874-ade4-471c-ac56-1c58afebe634",
   "metadata": {},
   "outputs": [],
   "source": [
    "import urllib.parse\n",
    "from pathlib import Path\n",
    "\n",
    "import requests\n",
    "import pandas as pd\n",
    "from bs4 import BeautifulSoup"
   ]
  },
  {
   "cell_type": "markdown",
   "id": "018d2e10-da6c-4fb4-abd7-3212c2c69afa",
   "metadata": {},
   "source": [
    "## Download manifest"
   ]
  },
  {
   "cell_type": "markdown",
   "id": "55522cbb-66bb-4548-bf4a-ebab805386da",
   "metadata": {},
   "source": [
    "Download the election results page"
   ]
  },
  {
   "cell_type": "code",
   "execution_count": 2,
   "id": "fd72129b-f3ca-4634-99a9-15c0ec87b50e",
   "metadata": {},
   "outputs": [],
   "source": [
    "url = \"https://www.vote.nyc/page/election-results-summary\""
   ]
  },
  {
   "cell_type": "code",
   "execution_count": 3,
   "id": "9d2f7221-b5b8-4440-8609-67d7238c7dd3",
   "metadata": {},
   "outputs": [],
   "source": [
    "r = requests.get(url)"
   ]
  },
  {
   "cell_type": "code",
   "execution_count": 4,
   "id": "858edfec-81bf-4028-973f-e3db5d68aace",
   "metadata": {},
   "outputs": [],
   "source": [
    "assert r.ok"
   ]
  },
  {
   "cell_type": "markdown",
   "id": "46c74e0d-aad6-49cd-a50c-7e1b1c56e7ce",
   "metadata": {},
   "source": [
    "Parse out the tables with data"
   ]
  },
  {
   "cell_type": "code",
   "execution_count": 5,
   "id": "165748bd-d86b-4fe8-8a3b-44836b94653e",
   "metadata": {},
   "outputs": [],
   "source": [
    "soup = BeautifulSoup(r.text)"
   ]
  },
  {
   "cell_type": "code",
   "execution_count": 6,
   "id": "6984e403-8f19-4d45-a275-595931616c2c",
   "metadata": {},
   "outputs": [],
   "source": [
    "content = soup.find(\"article\").find(\"div\", class_=\"content\").find(\"div\", class_=\"field--type-field-collection\")"
   ]
  },
  {
   "cell_type": "code",
   "execution_count": 7,
   "id": "55d5742e-5ea9-407a-be35-5a79e2d6f6c3",
   "metadata": {},
   "outputs": [],
   "source": [
    "election_list = content.find_all(\"div\", class_=\"field__item\", recursive=False)"
   ]
  },
  {
   "cell_type": "markdown",
   "id": "b8390622-0f09-4309-a655-a71a8914f162",
   "metadata": {},
   "source": [
    "Pull the data out of each table"
   ]
  },
  {
   "cell_type": "code",
   "execution_count": 8,
   "id": "f2375ed1-15e7-4dd1-9382-f051d265c0bd",
   "metadata": {},
   "outputs": [],
   "source": [
    "def parse_election(s):\n",
    "    \"\"\"Parse the provided election table.\"\"\"\n",
    "    # Grab the title\n",
    "    title = s.find(\"h2\").text\n",
    "    \n",
    "    # If this is the archive, skip it\n",
    "    if title == \"Archive\":\n",
    "        print(\"Skipping archive\")\n",
    "        return []\n",
    "    \n",
    "    # Parse the eleciton title\n",
    "    print(f\"Parsing {title}\")\n",
    "    \n",
    "    # Grab the results table\n",
    "    table = s.find(\"table\", class_=\"simple-table\")\n",
    "    \n",
    "    # Get all the rows\n",
    "    row_list = table.find_all(\"tr\")\n",
    "    print(f\"{len(row_list)} rows found\")\n",
    "    \n",
    "    # Loop through them, skipping the header\n",
    "    data_list = []\n",
    "    for row in row_list[1:]:\n",
    "        # Grab all the cells\n",
    "        cell_list = row.find_all(\"td\")\n",
    "        \n",
    "        # Pop out the title\n",
    "        contest = cell_list.pop(0).text\n",
    "        \n",
    "        # Start up a clean record\n",
    "        d = dict(\n",
    "            election=title,\n",
    "            contest=contest,\n",
    "        )\n",
    "        \n",
    "        # Pull out all the CSVs\n",
    "        csv_list = [c.a for c in cell_list if c.a['href'].endswith(\".csv\")]\n",
    "        \n",
    "        # Pop out the recap and ed level CSVs, if they exist\n",
    "        base_url = \"https://www.vote.nyc\"\n",
    "        for csv in csv_list:\n",
    "            if 'recap' in csv['href'].lower():\n",
    "                d['recap_csv_url'] = base_url + urllib.parse.quote(csv['href'])\n",
    "            if 'edlevel' in csv['href'].lower():\n",
    "                d['ed_csv_url'] = base_url + urllib.parse.quote(csv['href'])\n",
    "        \n",
    "        # Do the same for PDFs\n",
    "        pdf_list = [c.a for c in cell_list if c.a['href'].endswith(\".pdf\")]\n",
    "        for pdf in pdf_list:\n",
    "            if 'manual' in pdf['href'].lower():\n",
    "                d['manual_pdf_url'] = base_url + urllib.parse.quote(pdf['href'])\n",
    "            elif 'recap' in pdf['href'].lower():\n",
    "                d['recap_pdf_url'] = base_url + urllib.parse.quote(pdf['href'])\n",
    "            elif 'edlevel' in pdf['href'].lower():\n",
    "                d['ed_pdf_url'] = base_url + urllib.parse.quote(pdf['href'])\n",
    "        \n",
    "        # All record to list\n",
    "        data_list.append(d)\n",
    "\n",
    "    # Return the list    \n",
    "    return data_list"
   ]
  },
  {
   "cell_type": "code",
   "execution_count": 9,
   "id": "fe308af8-490b-424f-981f-a9601334cbd2",
   "metadata": {},
   "outputs": [
    {
     "name": "stdout",
     "output_type": "stream",
     "text": [
      "Parsing GENERAL - NOVEMBER 8, 2022\n",
      "209 rows found\n",
      "Parsing PRIMARY - AUGUST 23, 2022\n",
      "49 rows found\n",
      "Parsing PRIMARY - JUNE 28, 2022\n",
      "391 rows found\n",
      "Parsing SPECIAL- MAY 24, 2022\n",
      "2 rows found\n",
      "Parsing SPECIAL- MARCH 22, 2022\n",
      "2 rows found\n",
      "Parsing SPECIAL- FEBRUARY 15, 2022\n",
      "3 rows found\n",
      "Parsing SPECIAL- JANUARY 18, 2022\n",
      "2 rows found\n",
      "Skipping archive\n"
     ]
    }
   ],
   "source": [
    "contest_list = []\n",
    "for election in election_list:\n",
    "    contest_list += parse_election(election)"
   ]
  },
  {
   "cell_type": "markdown",
   "id": "be383ee4-2fce-4687-b665-46a0a3937441",
   "metadata": {},
   "source": [
    "Write out the result"
   ]
  },
  {
   "cell_type": "code",
   "execution_count": 10,
   "id": "a649f6a7-bc93-431b-bc93-4a96c1f00b58",
   "metadata": {},
   "outputs": [],
   "source": [
    "df = pd.DataFrame(contest_list)"
   ]
  },
  {
   "cell_type": "code",
   "execution_count": 11,
   "id": "761ea183-ebdb-4ef6-80f4-c561125fa0a3",
   "metadata": {},
   "outputs": [
    {
     "data": {
      "text/html": [
       "<div>\n",
       "<style scoped>\n",
       "    .dataframe tbody tr th:only-of-type {\n",
       "        vertical-align: middle;\n",
       "    }\n",
       "\n",
       "    .dataframe tbody tr th {\n",
       "        vertical-align: top;\n",
       "    }\n",
       "\n",
       "    .dataframe thead th {\n",
       "        text-align: right;\n",
       "    }\n",
       "</style>\n",
       "<table border=\"1\" class=\"dataframe\">\n",
       "  <thead>\n",
       "    <tr style=\"text-align: right;\">\n",
       "      <th></th>\n",
       "      <th>election</th>\n",
       "      <th>contest</th>\n",
       "      <th>recap_csv_url</th>\n",
       "      <th>ed_csv_url</th>\n",
       "      <th>recap_pdf_url</th>\n",
       "      <th>ed_pdf_url</th>\n",
       "      <th>manual_pdf_url</th>\n",
       "    </tr>\n",
       "  </thead>\n",
       "  <tbody>\n",
       "    <tr>\n",
       "      <th>0</th>\n",
       "      <td>GENERAL - NOVEMBER 8, 2022</td>\n",
       "      <td>Citywide Governor/Lieutenant Governor Citywide</td>\n",
       "      <td>https://www.vote.nyc/sites/default/files/pdf/e...</td>\n",
       "      <td>https://www.vote.nyc/sites/default/files/pdf/e...</td>\n",
       "      <td>https://www.vote.nyc/sites/default/files/pdf/e...</td>\n",
       "      <td>https://www.vote.nyc/sites/default/files/pdf/e...</td>\n",
       "      <td>NaN</td>\n",
       "    </tr>\n",
       "    <tr>\n",
       "      <th>1</th>\n",
       "      <td>GENERAL - NOVEMBER 8, 2022</td>\n",
       "      <td>Citywide State Comptroller Citywide</td>\n",
       "      <td>https://www.vote.nyc/sites/default/files/pdf/e...</td>\n",
       "      <td>https://www.vote.nyc/sites/default/files/pdf/e...</td>\n",
       "      <td>https://www.vote.nyc/sites/default/files/pdf/e...</td>\n",
       "      <td>https://www.vote.nyc/sites/default/files/pdf/e...</td>\n",
       "      <td>NaN</td>\n",
       "    </tr>\n",
       "    <tr>\n",
       "      <th>2</th>\n",
       "      <td>GENERAL - NOVEMBER 8, 2022</td>\n",
       "      <td>Citywide Attorney General Citywide</td>\n",
       "      <td>https://www.vote.nyc/sites/default/files/pdf/e...</td>\n",
       "      <td>https://www.vote.nyc/sites/default/files/pdf/e...</td>\n",
       "      <td>https://www.vote.nyc/sites/default/files/pdf/e...</td>\n",
       "      <td>https://www.vote.nyc/sites/default/files/pdf/e...</td>\n",
       "      <td>NaN</td>\n",
       "    </tr>\n",
       "    <tr>\n",
       "      <th>3</th>\n",
       "      <td>GENERAL - NOVEMBER 8, 2022</td>\n",
       "      <td>Citywide United States Senator Citywide</td>\n",
       "      <td>https://www.vote.nyc/sites/default/files/pdf/e...</td>\n",
       "      <td>https://www.vote.nyc/sites/default/files/pdf/e...</td>\n",
       "      <td>https://www.vote.nyc/sites/default/files/pdf/e...</td>\n",
       "      <td>https://www.vote.nyc/sites/default/files/pdf/e...</td>\n",
       "      <td>NaN</td>\n",
       "    </tr>\n",
       "    <tr>\n",
       "      <th>4</th>\n",
       "      <td>GENERAL - NOVEMBER 8, 2022</td>\n",
       "      <td>Crossover Representative in Congress 7th Congr...</td>\n",
       "      <td>https://www.vote.nyc/sites/default/files/pdf/e...</td>\n",
       "      <td>https://www.vote.nyc/sites/default/files/pdf/e...</td>\n",
       "      <td>https://www.vote.nyc/sites/default/files/pdf/e...</td>\n",
       "      <td>https://www.vote.nyc/sites/default/files/pdf/e...</td>\n",
       "      <td>NaN</td>\n",
       "    </tr>\n",
       "  </tbody>\n",
       "</table>\n",
       "</div>"
      ],
      "text/plain": [
       "                     election  \\\n",
       "0  GENERAL - NOVEMBER 8, 2022   \n",
       "1  GENERAL - NOVEMBER 8, 2022   \n",
       "2  GENERAL - NOVEMBER 8, 2022   \n",
       "3  GENERAL - NOVEMBER 8, 2022   \n",
       "4  GENERAL - NOVEMBER 8, 2022   \n",
       "\n",
       "                                             contest  \\\n",
       "0     Citywide Governor/Lieutenant Governor Citywide   \n",
       "1                Citywide State Comptroller Citywide   \n",
       "2                 Citywide Attorney General Citywide   \n",
       "3            Citywide United States Senator Citywide   \n",
       "4  Crossover Representative in Congress 7th Congr...   \n",
       "\n",
       "                                       recap_csv_url  \\\n",
       "0  https://www.vote.nyc/sites/default/files/pdf/e...   \n",
       "1  https://www.vote.nyc/sites/default/files/pdf/e...   \n",
       "2  https://www.vote.nyc/sites/default/files/pdf/e...   \n",
       "3  https://www.vote.nyc/sites/default/files/pdf/e...   \n",
       "4  https://www.vote.nyc/sites/default/files/pdf/e...   \n",
       "\n",
       "                                          ed_csv_url  \\\n",
       "0  https://www.vote.nyc/sites/default/files/pdf/e...   \n",
       "1  https://www.vote.nyc/sites/default/files/pdf/e...   \n",
       "2  https://www.vote.nyc/sites/default/files/pdf/e...   \n",
       "3  https://www.vote.nyc/sites/default/files/pdf/e...   \n",
       "4  https://www.vote.nyc/sites/default/files/pdf/e...   \n",
       "\n",
       "                                       recap_pdf_url  \\\n",
       "0  https://www.vote.nyc/sites/default/files/pdf/e...   \n",
       "1  https://www.vote.nyc/sites/default/files/pdf/e...   \n",
       "2  https://www.vote.nyc/sites/default/files/pdf/e...   \n",
       "3  https://www.vote.nyc/sites/default/files/pdf/e...   \n",
       "4  https://www.vote.nyc/sites/default/files/pdf/e...   \n",
       "\n",
       "                                          ed_pdf_url manual_pdf_url  \n",
       "0  https://www.vote.nyc/sites/default/files/pdf/e...            NaN  \n",
       "1  https://www.vote.nyc/sites/default/files/pdf/e...            NaN  \n",
       "2  https://www.vote.nyc/sites/default/files/pdf/e...            NaN  \n",
       "3  https://www.vote.nyc/sites/default/files/pdf/e...            NaN  \n",
       "4  https://www.vote.nyc/sites/default/files/pdf/e...            NaN  "
      ]
     },
     "execution_count": 11,
     "metadata": {},
     "output_type": "execute_result"
    }
   ],
   "source": [
    "df.head()"
   ]
  },
  {
   "cell_type": "code",
   "execution_count": 12,
   "id": "6f49de53-7517-484b-b85a-f5b8dee9d2cf",
   "metadata": {},
   "outputs": [
    {
     "name": "stdout",
     "output_type": "stream",
     "text": [
      "<class 'pandas.core.frame.DataFrame'>\n",
      "RangeIndex: 651 entries, 0 to 650\n",
      "Data columns (total 7 columns):\n",
      " #   Column          Non-Null Count  Dtype \n",
      "---  ------          --------------  ----- \n",
      " 0   election        651 non-null    object\n",
      " 1   contest         651 non-null    object\n",
      " 2   recap_csv_url   464 non-null    object\n",
      " 3   ed_csv_url      464 non-null    object\n",
      " 4   recap_pdf_url   465 non-null    object\n",
      " 5   ed_pdf_url      464 non-null    object\n",
      " 6   manual_pdf_url  164 non-null    object\n",
      "dtypes: object(7)\n",
      "memory usage: 35.7+ KB\n"
     ]
    }
   ],
   "source": [
    "df.info()"
   ]
  },
  {
   "cell_type": "code",
   "execution_count": 27,
   "id": "271e101d-ca9f-4520-ab93-6136306efd65",
   "metadata": {},
   "outputs": [],
   "source": [
    "df.to_csv(\"nyc-2020-sources-manifest.csv\", index=False)"
   ]
  },
  {
   "cell_type": "markdown",
   "id": "6b584a83-9afd-4351-8551-f638413c4f05",
   "metadata": {},
   "source": [
    "## Download sources"
   ]
  },
  {
   "cell_type": "markdown",
   "id": "62903e7c-1ba1-49f6-8ee3-cd3ecdc4de96",
   "metadata": {},
   "source": [
    "Download all files"
   ]
  },
  {
   "cell_type": "code",
   "execution_count": 14,
   "id": "efb8db0f-188e-4219-852e-e1c5edc5b8e2",
   "metadata": {},
   "outputs": [],
   "source": [
    "indexed_df = df.set_index([\"election\", \"contest\"])"
   ]
  },
  {
   "cell_type": "code",
   "execution_count": 15,
   "id": "35026289-48be-4f29-bc09-23cf6556c83e",
   "metadata": {},
   "outputs": [],
   "source": [
    "download_dir = Path(\"\").absolute() / \"data\""
   ]
  },
  {
   "cell_type": "code",
   "execution_count": 16,
   "id": "70755e17-e5a0-4a50-bdd6-ca1eb23371d1",
   "metadata": {},
   "outputs": [],
   "source": [
    "download_dir.mkdir(exist_ok=True, parents=True)"
   ]
  },
  {
   "cell_type": "code",
   "execution_count": 33,
   "id": "6d6a9d3b-01d7-4b5d-9284-4bd4745a8fe7",
   "metadata": {},
   "outputs": [],
   "source": [
    "def download_url(url: str, timeout: int = 180):\n",
    "    \"\"\"Download the provided URL to the provided path.\"\"\"\n",
    "    # Quit if there's no URL\n",
    "    if not url or pd.isnull(url):\n",
    "        return\n",
    "    \n",
    "    # Get the output path\n",
    "    output_path = download_dir / urllib.parse.urlparse(url).path.split(\"/\")[-1]\n",
    "    \n",
    "    # Quit if we've already got it\n",
    "    if output_path.exists():\n",
    "        return\n",
    "    \n",
    "    # Download it\n",
    "    with requests.get(url, stream=True, timeout=timeout) as r:\n",
    "        # Quit if there's a 404. We expect a couple.\n",
    "        if r.status_code == 404:\n",
    "            return\n",
    "        r.raise_for_status()\n",
    "\n",
    "        # Write out the file\n",
    "        print(f\"Downloading {url}\")\n",
    "        with open(output_path, \"wb\") as f:\n",
    "            for chunk in r.iter_content(chunk_size=8192):\n",
    "                f.write(chunk)"
   ]
  },
  {
   "cell_type": "code",
   "execution_count": 35,
   "id": "fbd0761a-6399-4bf6-9131-f25d7085a26d",
   "metadata": {},
   "outputs": [],
   "source": [
    "dev_null = indexed_df.applymap(download_url)"
   ]
  }
 ],
 "metadata": {
  "kernelspec": {
   "display_name": "Python 3 (ipykernel)",
   "language": "python",
   "name": "python3"
  },
  "language_info": {
   "codemirror_mode": {
    "name": "ipython",
    "version": 3
   },
   "file_extension": ".py",
   "mimetype": "text/x-python",
   "name": "python",
   "nbconvert_exporter": "python",
   "pygments_lexer": "ipython3",
   "version": "3.10.7"
  }
 },
 "nbformat": 4,
 "nbformat_minor": 5
}
